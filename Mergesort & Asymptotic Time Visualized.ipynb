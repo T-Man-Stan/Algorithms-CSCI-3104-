{
 "cells": [
  {
   "cell_type": "code",
   "execution_count": 1,
   "metadata": {},
   "outputs": [],
   "source": [
    "import random\n",
    "import math\n",
    "import matplotlib.pyplot as plt\n",
    "get_ipython().magic(u'matplotlib inline')"
   ]
  },
  {
   "cell_type": "code",
   "execution_count": 2,
   "metadata": {},
   "outputs": [],
   "source": [
    "def randomArray(n):\n",
    "    # takes an input an integer n and returns an array A such that for each 0 <= i < n A[i]\n",
    "    # is a uniformly random integer between 1 and n\n",
    "    A = []\n",
    "    for i in range(n):\n",
    "        A.append(random.randint(1, n))\n",
    "    return A"
   ]
  },
  {
   "cell_type": "code",
   "execution_count": 3,
   "metadata": {},
   "outputs": [],
   "source": [
    "def Merge(A, p, q, r, count):\n",
    "    # merge sorted sub-array A[p .. q] and A[q + 1 .. r]\n",
    "    L = A[p : q  +  1]\n",
    "    R = A[q + 1 : r + 1]\n",
    "    \n",
    "    count[0] += q - p + 1\n",
    "    count[0] += r - q\n",
    "    \n",
    "    temp = []\n",
    "    \n",
    "    i, j = 0, 0\n",
    "    \n",
    "    count[0] += 3\n",
    "    \n",
    "    while i < len(L) and j < len(R):\n",
    "        count[0] += 3\n",
    "        if L[i] < R[j]:\n",
    "            temp.append(L[i])\n",
    "            i += 1\n",
    "        else:\n",
    "            temp.append(R[j])\n",
    "            j += 1\n",
    "        count[0] += 3\n",
    "    count[0] += 3\n",
    "    \n",
    "    if i < len(L):\n",
    "        temp.extend(L[i:])\n",
    "        count[0] += len(L[i:])\n",
    "        count[0] += 1\n",
    "    elif j < len(R):\n",
    "        temp.extend(R[j:])\n",
    "        count[0] += len(R[j:])\n",
    "        count[0] += 1\n",
    "        \n",
    "    A[p:r+1] = temp\n",
    "    count[0] += r - p\n",
    "                \n",
    "def MergeSortHelper(A, p, r, count):\n",
    "    if p < r:\n",
    "        q = (p + r) // 2\n",
    "        count[0] += 3\n",
    "        MergeSortHelper(A, p, q, count)\n",
    "        MergeSortHelper(A, q + 1, r, count)\n",
    "        Merge(A, p, q, r, count)\n",
    "        \n",
    "def MergeSort(A, n):\n",
    "    count = [0, ]\n",
    "    MergeSortHelper(A, 0, n - 1, count)\n",
    "    return A, count[0]\n"
   ]
  },
  {
   "cell_type": "code",
   "execution_count": 4,
   "metadata": {},
   "outputs": [
    {
     "name": "stdout",
     "output_type": "stream",
     "text": [
      "1000\n",
      "2000\n",
      "3000\n",
      "4000\n",
      "5000\n",
      "6000\n",
      "7000\n",
      "8000\n",
      "9000\n"
     ]
    }
   ],
   "source": [
    "upper_n = 10**4\n",
    "count_dict = {}\n",
    "for i in range(1, upper_n):\n",
    "    A = randomArray(i)\n",
    "    A, count = MergeSort(A, i)\n",
    "    if i % 1000 == 0:\n",
    "        print i\n",
    "    count_dict[i] = count"
   ]
  },
  {
   "cell_type": "code",
   "execution_count": 5,
   "metadata": {},
   "outputs": [
    {
     "data": {
      "text/plain": [
       "[<matplotlib.lines.Line2D at 0x11c90fb50>]"
      ]
     },
     "execution_count": 5,
     "metadata": {},
     "output_type": "execute_result"
    },
    {
     "data": {
      "image/png": "[encoded data removed]",
      "text/plain": [
       "<Figure size 432x288 with 1 Axes>"
      ]
     },
     "metadata": {
      "needs_background": "light"
     },
     "output_type": "display_data"
    }
   ],
   "source": [
    "items = count_dict.items()\n",
    "x, y = zip(*items)\n",
    "plt.plot(x, y, 'b-')\n",
    "plt.plot(x, map(lambda y : y*math.log(y), x), 'r--')"
   ]
  },
  {
   "cell_type": "code",
   "execution_count": null,
   "metadata": {},
   "outputs": [],
   "source": []
  }
 ],
 "metadata": {
  "kernelspec": {
   "display_name": "Python 2",
   "language": "python",
   "name": "python2"
  },
  "language_info": {
   "codemirror_mode": {
    "name": "ipython",
    "version": 2
   },
   "file_extension": ".py",
   "mimetype": "text/x-python",
   "name": "python",
   "nbconvert_exporter": "python",
   "pygments_lexer": "ipython2",
   "version": "2.7.15"
  }
 },
 "nbformat": 4,
 "nbformat_minor": 2
}
